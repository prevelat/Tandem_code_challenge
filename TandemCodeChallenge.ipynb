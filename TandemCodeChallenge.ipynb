{
  "nbformat": 4,
  "nbformat_minor": 0,
  "metadata": {
    "colab": {
      "name": "TandemCodeChallenge.ipynb",
      "provenance": [],
      "include_colab_link": true
    },
    "kernelspec": {
      "name": "python3",
      "display_name": "Python 3"
    },
    "accelerator": "GPU"
  },
  "cells": [
    {
      "cell_type": "markdown",
      "metadata": {
        "id": "view-in-github",
        "colab_type": "text"
      },
      "source": [
        "<a href=\"https://colab.research.google.com/github/prevelat/Tandem_code_challenge/blob/master/TandemCodeChallenge.ipynb\" target=\"_parent\"><img src=\"https://colab.research.google.com/assets/colab-badge.svg\" alt=\"Open In Colab\"/></a>"
      ]
    },
    {
      "cell_type": "markdown",
      "metadata": {
        "id": "ZZeIr5hntKlJ",
        "colab_type": "text"
      },
      "source": [
        "# SETUP"
      ]
    },
    {
      "cell_type": "code",
      "metadata": {
        "id": "SUVQgxOBwrC4",
        "colab_type": "code",
        "colab": {}
      },
      "source": [
        "import json\n",
        "import datetime\n",
        "import os\n",
        "from google.colab import drive"
      ],
      "execution_count": 0,
      "outputs": []
    },
    {
      "cell_type": "code",
      "metadata": {
        "id": "lwWJxq8Cjik2",
        "colab_type": "code",
        "outputId": "7d5464e2-ba00-4312-984b-aa055af57375",
        "colab": {
          "base_uri": "https://localhost:8080/",
          "height": 34
        }
      },
      "source": [
        "drive.mount('/content/drive')\n",
        "os.chdir(\"drive/My Drive/Colab Notebooks\")"
      ],
      "execution_count": 2,
      "outputs": [
        {
          "output_type": "stream",
          "text": [
            "Drive already mounted at /content/drive; to attempt to forcibly remount, call drive.mount(\"/content/drive\", force_remount=True).\n"
          ],
          "name": "stdout"
        }
      ]
    },
    {
      "cell_type": "markdown",
      "metadata": {
        "id": "GRewCWJ2uA7t",
        "colab_type": "text"
      },
      "source": [
        "## Make sure the json file is in the google drive 'Colab Notebooks' folder together with this notebook.\n"
      ]
    },
    {
      "cell_type": "code",
      "metadata": {
        "id": "4ae55Bl4kNEs",
        "colab_type": "code",
        "colab": {}
      },
      "source": [
        "with open('Apprentice_WeGrowInTandem_Data.json') as json_file:\n",
        "  data = json.load(json_file)"
      ],
      "execution_count": 0,
      "outputs": []
    },
    {
      "cell_type": "markdown",
      "metadata": {
        "id": "fQYYoMdMvN40",
        "colab_type": "text"
      },
      "source": [
        "# Functions Definitions:"
      ]
    },
    {
      "cell_type": "code",
      "metadata": {
        "id": "5cyOBv1yEdHB",
        "colab_type": "code",
        "colab": {}
      },
      "source": [
        "# def get_start_params():\n",
        "\n",
        "#   # Setup the starting parameters: starting day and length for the schedule\n",
        "\n",
        "#   print(\"Ok, let's start! But first i need some info:\\n\")\n",
        "#   print(\"First watering day: 2019/12/16\\n\")\n",
        "#   answer = input(\"Is this correct? (y/n) \")\n",
        "#   if answer == 'n':\n",
        "#     while 1:\n",
        "#       s_date = input(\"\\nThen let's set the new starting day (the input should be [YYYY/MM/DD] without '[' and ']'): \")\n",
        "#       s_date = s_date.split('/')\n",
        "#       print(\"\\nNew starting date: \" + s_date[0] + \"/\" + s_date[1] + \"/\" + s_date[2] + \"\\n\")\n",
        "#       answer2 = input(\"Correct? (y/n)\")\n",
        "#       if answer2 == 'y':\n",
        "#         s_date = datetime.date(int(s_date[0]), int(s_date[1]), int(s_date[2]))\n",
        "#         break\n",
        "#   else:\n",
        "#     s_date = datetime.date(2019, 12, 16)\n",
        "#   print(\"\\nSchedule watering days for: 12 weeks\\n\")\n",
        "#   answer = input(\"Is this correct? (y/n) \")\n",
        "#   if answer == 'n':\n",
        "#     while 1:\n",
        "#       length = input(\"\\nThen for how many weeks do you want to schedule (integer bigger than 0): \")\n",
        "#       print(\"\\nNew schedule period: \" + length + \" weeks\\n\")\n",
        "#       answer2 = input(\"Correct? (y/n)\")\n",
        "#       if answer2 == 'y':\n",
        "#         length = int(length) * 7\n",
        "#         break\n",
        "#   else:\n",
        "#     length = 12 * 7\n",
        "#   return s_date, length\n",
        "\n",
        "# s_date, length = get_start_params()\n",
        "\n",
        "s_date = datetime.date(2019, 12, 16)\n",
        "length = 12 * 7"
      ],
      "execution_count": 0,
      "outputs": []
    },
    {
      "cell_type": "code",
      "metadata": {
        "id": "u8CfZiSJ8qOr",
        "colab_type": "code",
        "colab": {}
      },
      "source": [
        "def calculate_water_days(data=data, d=s_date, length=length):\n",
        "\n",
        "  # Takes the data and setup parameters and calculates every watering dates\n",
        "\n",
        "  count = 0\n",
        "  for i in data:\n",
        "    days_to_water = []\n",
        "    delta_d = [int(s) for s in i['water_after'].split() if s.isdigit()]\n",
        "    delta_d = delta_d[0]\n",
        "    last_day = datetime.date(2019, 12, 16) + datetime.timedelta(days = length)\n",
        "    day = s_date\n",
        "    while day < last_day:\n",
        "      if day.weekday() == 6:\n",
        "        day = day + datetime.timedelta(days = 1)\n",
        "      elif day.weekday() == 5:\n",
        "        day = day + datetime.timedelta(days = -1)\n",
        "      days_to_water.append(day)\n",
        "      day += datetime.timedelta(days = delta_d)\n",
        "    i['days_to_water'] = days_to_water\n",
        "    i['id'] = count\n",
        "    count += 1 \n",
        "\n",
        "# calculate_water_days()"
      ],
      "execution_count": 0,
      "outputs": []
    },
    {
      "cell_type": "code",
      "metadata": {
        "id": "WXQm5iSbH2_H",
        "colab_type": "code",
        "colab": {}
      },
      "source": [
        "def export_to_json(data=data):\n",
        "\n",
        "  # Exports the modified data to a new json file\n",
        "\n",
        "  print()\n",
        "  name = input(\"Choose a name for the file: \")\n",
        "  with open(name + \".json\", 'w') as fp:\n",
        "    json.dump(data, fp, default=str)\n",
        "  print(\"\\nDone\")\n",
        "\n",
        "# export_to_json()"
      ],
      "execution_count": 0,
      "outputs": []
    },
    {
      "cell_type": "code",
      "metadata": {
        "id": "rIiAvCiZxzwI",
        "colab_type": "code",
        "colab": {}
      },
      "source": [
        "def show_plants(data=data):\n",
        "\n",
        "  # Prints out every plant name and id for the user\n",
        "\n",
        "  print()\n",
        "  for i in data:\n",
        "    print(\"id = \" + str(i['id']) + \", name = \" + i['name'])\n",
        "  print()\n",
        "\n",
        "# show_plants()"
      ],
      "execution_count": 0,
      "outputs": []
    },
    {
      "cell_type": "code",
      "metadata": {
        "id": "dvM7JEv709Gz",
        "colab_type": "code",
        "colab": {}
      },
      "source": [
        "def water_plant(data=data):\n",
        "  \n",
        "  # Delete the water date for the plant that has been watered\n",
        "\n",
        "  while 1:\n",
        "    print(\"Which plant do you wanna water today?\")\n",
        "    show_plants()\n",
        "    id = int(input(\"Would you please input the id of the lucky one?: \"))\n",
        "    if id in range(len(data)):\n",
        "      break\n",
        "    else:\n",
        "      print(\"Not a valid id, please retry...\")\n",
        "  for flower in data:\n",
        "    if flower['id'] == id:\n",
        "      for date in flower['days_to_water']:\n",
        "        if date < datetime.date.today() + datetime.timedelta(days = 1):\n",
        "          print(\"\\n\", flower['name'], \"apreciates the care!\\n\")\n",
        "          flower['days_to_water'].remove(date)\n",
        "          return\n",
        "  for flower in data:\n",
        "    if flower['id'] == id:\n",
        "      print(\"\\n\", flower['name'], \"is happy for today, doens't need to be watered, thank you!\\n\")\n",
        "\n",
        "# water_plant()"
      ],
      "execution_count": 0,
      "outputs": []
    },
    {
      "cell_type": "code",
      "metadata": {
        "id": "97y7YXmrBpiz",
        "colab_type": "code",
        "colab": {}
      },
      "source": [
        "def next_water_day(data=data):\n",
        "\n",
        "  # Displays next watering date for a plant\n",
        "\n",
        "  while 1:\n",
        "    print(\"For which plant do you wanna check next water today?\")\n",
        "    show_plants()\n",
        "    id = int(input(\"Would you please choose the id of the one you wanna check?: \"))\n",
        "    if id in range(len(data)):\n",
        "      break\n",
        "    else:\n",
        "      print(\"Not a valid id, please retry...\")\n",
        "  for flower in data:\n",
        "    if flower['id'] == id:\n",
        "      for date in flower['days_to_water']:\n",
        "        if date == datetime.date.today():\n",
        "          print(\"\\nIt's Today! Go for it!\\n\")\n",
        "        else:\n",
        "          print(\"\\nNext watering day for\", flower['name'], \"is\", date, \".\")\n",
        "        return\n",
        "  for flower in data:\n",
        "    if flower['id'] == id:\n",
        "      print(\"\\n\", flower['name'], \"doens't have a next watering day for this schedule, thank you for checking!\\n\")\n",
        "\n",
        "# next_water_day()"
      ],
      "execution_count": 0,
      "outputs": []
    },
    {
      "cell_type": "code",
      "metadata": {
        "id": "HQ0BsCZmBppi",
        "colab_type": "code",
        "colab": {}
      },
      "source": [
        "def check_all_days(data=data):\n",
        "\n",
        "  # Displays every watering date for a plant\n",
        "\n",
        "  while 1:\n",
        "    print(\"For which plant do you wanna check watering days?\")\n",
        "    show_plants()\n",
        "    id = int(input(\"Would you please choose the id of the one you wanna check?: \"))\n",
        "    if id in range(len(data)):\n",
        "      break\n",
        "    else:\n",
        "      print(\"Not a valid id, please retry...\")\n",
        "  print()\n",
        "  for flower in data:\n",
        "    if flower['id'] == id:\n",
        "      if not flower['days_to_water']:\n",
        "        print(flower['name'], \"have no more watering days for this schedule, thank you for checking!\\n\")\n",
        "        return\n",
        "      else:\n",
        "        for date in flower['days_to_water']:\n",
        "          print(date)\n",
        "      print()\n",
        "\n",
        "\n",
        "# check_all_days()"
      ],
      "execution_count": 0,
      "outputs": []
    },
    {
      "cell_type": "code",
      "metadata": {
        "id": "bDQL_jhCkMsz",
        "colab_type": "code",
        "colab": {}
      },
      "source": [
        "# Define lists for easy access of the program\n",
        "\n",
        "fn_list = {\n",
        "    0: export_to_json,\n",
        "    1: show_plants,\n",
        "    2: water_plant,\n",
        "    3: next_water_day,\n",
        "    4: check_all_days\n",
        "}\n",
        "\n",
        "fn_list_names = {\n",
        "    0: \"I want to export the schedule to a json file\",\n",
        "    1: \"Which plants are in the schedule?\",\n",
        "    2: \"I want to water a plant.\",\n",
        "    3: \"I want to check next water day for a plant.\",\n",
        "    4: \"I want to check all water days for a plant.\",\n",
        "    'q': \"Quit\"\n",
        "    # 5: \"I want to check every water day for every plant\" TODO\n",
        "}"
      ],
      "execution_count": 0,
      "outputs": []
    },
    {
      "cell_type": "markdown",
      "metadata": {
        "id": "XrFmhOLTyzh7",
        "colab_type": "text"
      },
      "source": [
        "# MAIN"
      ]
    },
    {
      "cell_type": "code",
      "metadata": {
        "id": "Pn2mOqgNkNMi",
        "colab_type": "code",
        "colab": {
          "base_uri": "https://localhost:8080/",
          "height": 1000
        },
        "outputId": "92292133-b82c-41e8-98a5-d74333316359"
      },
      "source": [
        "def main():\n",
        "\n",
        "  # s_date, length = get_start_params()\n",
        "  calculate_water_days()\n",
        "  \n",
        "  while 1:\n",
        "    print(\"Hello! Would you please choose an action?\\n\")\n",
        "    for i in fn_list_names:\n",
        "      print(str(i) + \" : \" + fn_list_names[i])\n",
        "    print()\n",
        "    action = input()\n",
        "    if action == 'q':\n",
        "      print(\"Thank you for using this program, bye bye!\")\n",
        "      break\n",
        "    else:\n",
        "      action = int(action)\n",
        "      fn_list[action]()\n",
        "    print()\n",
        "    answer = input(\"Would you like to choose another option? (y/n)\")\n",
        "    if answer == 'n':\n",
        "      break\n",
        "\n",
        "main()"
      ],
      "execution_count": 12,
      "outputs": [
        {
          "output_type": "stream",
          "text": [
            "Hello! Would you please choose an action?\n",
            "\n",
            "0 : I want to export the schedule to a json file\n",
            "1 : Which plants are in the schedule?\n",
            "2 : I want to water a plant.\n",
            "3 : I want to check next water day for a plant.\n",
            "4 : I want to check all water days for a plant.\n",
            "q : Quit\n",
            "\n",
            "1\n",
            "\n",
            "id = 0, name = Fiddle Leaf Fig\n",
            "id = 1, name = Snake Plant\n",
            "id = 2, name = Money Tree\n",
            "id = 3, name = Bird's Nest Fern\n",
            "id = 4, name = Croton\n",
            "id = 5, name = Bell Pepper Plant\n",
            "id = 6, name = Strawberry Plant\n",
            "id = 7, name = Dracaena\n",
            "id = 8, name = Spider Plant\n",
            "id = 9, name = Jade\n",
            "id = 10, name = Wavy Fern\n",
            "\n",
            "\n",
            "Would you like to choose another option? (y/n)y\n",
            "Hello! Would you please choose an action?\n",
            "\n",
            "0 : I want to export the schedule to a json file\n",
            "1 : Which plants are in the schedule?\n",
            "2 : I want to water a plant.\n",
            "3 : I want to check next water day for a plant.\n",
            "4 : I want to check all water days for a plant.\n",
            "q : Quit\n",
            "\n",
            "3\n",
            "For which plant do you wanna check next water today?\n",
            "\n",
            "id = 0, name = Fiddle Leaf Fig\n",
            "id = 1, name = Snake Plant\n",
            "id = 2, name = Money Tree\n",
            "id = 3, name = Bird's Nest Fern\n",
            "id = 4, name = Croton\n",
            "id = 5, name = Bell Pepper Plant\n",
            "id = 6, name = Strawberry Plant\n",
            "id = 7, name = Dracaena\n",
            "id = 8, name = Spider Plant\n",
            "id = 9, name = Jade\n",
            "id = 10, name = Wavy Fern\n",
            "\n",
            "Would you please choose the id of the one you wanna check?: 5\n",
            "\n",
            "Next watering day for Bell Pepper Plant is 2019-12-16 .\n",
            "\n",
            "Would you like to choose another option? (y/n)y\n",
            "Hello! Would you please choose an action?\n",
            "\n",
            "0 : I want to export the schedule to a json file\n",
            "1 : Which plants are in the schedule?\n",
            "2 : I want to water a plant.\n",
            "3 : I want to check next water day for a plant.\n",
            "4 : I want to check all water days for a plant.\n",
            "q : Quit\n",
            "\n",
            "q\n",
            "Thank you for using this program, bye bye!\n"
          ],
          "name": "stdout"
        }
      ]
    }
  ]
}